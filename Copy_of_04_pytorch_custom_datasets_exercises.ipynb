{
  "nbformat": 4,
  "nbformat_minor": 0,
  "metadata": {
    "colab": {
      "provenance": [],
      "include_colab_link": true
    },
    "kernelspec": {
      "name": "python3",
      "display_name": "Python 3"
    },
    "language_info": {
      "name": "python"
    },
    "accelerator": "GPU",
    "widgets": {
      "application/vnd.jupyter.widget-state+json": {
        "bcf81281026047e097decc5a712a06e1": {
          "model_module": "@jupyter-widgets/controls",
          "model_name": "HBoxModel",
          "model_module_version": "1.5.0",
          "state": {
            "_dom_classes": [],
            "_model_module": "@jupyter-widgets/controls",
            "_model_module_version": "1.5.0",
            "_model_name": "HBoxModel",
            "_view_count": null,
            "_view_module": "@jupyter-widgets/controls",
            "_view_module_version": "1.5.0",
            "_view_name": "HBoxView",
            "box_style": "",
            "children": [
              "IPY_MODEL_395d3167e14747bc8e19162d84d23f89",
              "IPY_MODEL_4d615b17849d4ce885d340cef3d8940b",
              "IPY_MODEL_2324b6c9f87e4594b4bc654314e3f776"
            ],
            "layout": "IPY_MODEL_00f2b66e482749829b3b35d74b4c1067"
          }
        },
        "395d3167e14747bc8e19162d84d23f89": {
          "model_module": "@jupyter-widgets/controls",
          "model_name": "HTMLModel",
          "model_module_version": "1.5.0",
          "state": {
            "_dom_classes": [],
            "_model_module": "@jupyter-widgets/controls",
            "_model_module_version": "1.5.0",
            "_model_name": "HTMLModel",
            "_view_count": null,
            "_view_module": "@jupyter-widgets/controls",
            "_view_module_version": "1.5.0",
            "_view_name": "HTMLView",
            "description": "",
            "description_tooltip": null,
            "layout": "IPY_MODEL_00a199a4e8234896b6bd9f72afb90b41",
            "placeholder": "​",
            "style": "IPY_MODEL_0da4e22015b440b9a92d0e925206513a",
            "value": "100%"
          }
        },
        "4d615b17849d4ce885d340cef3d8940b": {
          "model_module": "@jupyter-widgets/controls",
          "model_name": "FloatProgressModel",
          "model_module_version": "1.5.0",
          "state": {
            "_dom_classes": [],
            "_model_module": "@jupyter-widgets/controls",
            "_model_module_version": "1.5.0",
            "_model_name": "FloatProgressModel",
            "_view_count": null,
            "_view_module": "@jupyter-widgets/controls",
            "_view_module_version": "1.5.0",
            "_view_name": "ProgressView",
            "bar_style": "success",
            "description": "",
            "description_tooltip": null,
            "layout": "IPY_MODEL_d0c7314e50ae4e5b80a5f42ca45d8502",
            "max": 20,
            "min": 0,
            "orientation": "horizontal",
            "style": "IPY_MODEL_c815f8429edb4a94b648a68e094ca09c",
            "value": 20
          }
        },
        "2324b6c9f87e4594b4bc654314e3f776": {
          "model_module": "@jupyter-widgets/controls",
          "model_name": "HTMLModel",
          "model_module_version": "1.5.0",
          "state": {
            "_dom_classes": [],
            "_model_module": "@jupyter-widgets/controls",
            "_model_module_version": "1.5.0",
            "_model_name": "HTMLModel",
            "_view_count": null,
            "_view_module": "@jupyter-widgets/controls",
            "_view_module_version": "1.5.0",
            "_view_name": "HTMLView",
            "description": "",
            "description_tooltip": null,
            "layout": "IPY_MODEL_2932fcda1efb4fedb8f9de5759ea05d8",
            "placeholder": "​",
            "style": "IPY_MODEL_0a366d4c844945b89a04a34eeae479b9",
            "value": " 20/20 [00:32&lt;00:00,  1.63s/it]"
          }
        },
        "00f2b66e482749829b3b35d74b4c1067": {
          "model_module": "@jupyter-widgets/base",
          "model_name": "LayoutModel",
          "model_module_version": "1.2.0",
          "state": {
            "_model_module": "@jupyter-widgets/base",
            "_model_module_version": "1.2.0",
            "_model_name": "LayoutModel",
            "_view_count": null,
            "_view_module": "@jupyter-widgets/base",
            "_view_module_version": "1.2.0",
            "_view_name": "LayoutView",
            "align_content": null,
            "align_items": null,
            "align_self": null,
            "border": null,
            "bottom": null,
            "display": null,
            "flex": null,
            "flex_flow": null,
            "grid_area": null,
            "grid_auto_columns": null,
            "grid_auto_flow": null,
            "grid_auto_rows": null,
            "grid_column": null,
            "grid_gap": null,
            "grid_row": null,
            "grid_template_areas": null,
            "grid_template_columns": null,
            "grid_template_rows": null,
            "height": null,
            "justify_content": null,
            "justify_items": null,
            "left": null,
            "margin": null,
            "max_height": null,
            "max_width": null,
            "min_height": null,
            "min_width": null,
            "object_fit": null,
            "object_position": null,
            "order": null,
            "overflow": null,
            "overflow_x": null,
            "overflow_y": null,
            "padding": null,
            "right": null,
            "top": null,
            "visibility": null,
            "width": null
          }
        },
        "00a199a4e8234896b6bd9f72afb90b41": {
          "model_module": "@jupyter-widgets/base",
          "model_name": "LayoutModel",
          "model_module_version": "1.2.0",
          "state": {
            "_model_module": "@jupyter-widgets/base",
            "_model_module_version": "1.2.0",
            "_model_name": "LayoutModel",
            "_view_count": null,
            "_view_module": "@jupyter-widgets/base",
            "_view_module_version": "1.2.0",
            "_view_name": "LayoutView",
            "align_content": null,
            "align_items": null,
            "align_self": null,
            "border": null,
            "bottom": null,
            "display": null,
            "flex": null,
            "flex_flow": null,
            "grid_area": null,
            "grid_auto_columns": null,
            "grid_auto_flow": null,
            "grid_auto_rows": null,
            "grid_column": null,
            "grid_gap": null,
            "grid_row": null,
            "grid_template_areas": null,
            "grid_template_columns": null,
            "grid_template_rows": null,
            "height": null,
            "justify_content": null,
            "justify_items": null,
            "left": null,
            "margin": null,
            "max_height": null,
            "max_width": null,
            "min_height": null,
            "min_width": null,
            "object_fit": null,
            "object_position": null,
            "order": null,
            "overflow": null,
            "overflow_x": null,
            "overflow_y": null,
            "padding": null,
            "right": null,
            "top": null,
            "visibility": null,
            "width": null
          }
        },
        "0da4e22015b440b9a92d0e925206513a": {
          "model_module": "@jupyter-widgets/controls",
          "model_name": "DescriptionStyleModel",
          "model_module_version": "1.5.0",
          "state": {
            "_model_module": "@jupyter-widgets/controls",
            "_model_module_version": "1.5.0",
            "_model_name": "DescriptionStyleModel",
            "_view_count": null,
            "_view_module": "@jupyter-widgets/base",
            "_view_module_version": "1.2.0",
            "_view_name": "StyleView",
            "description_width": ""
          }
        },
        "d0c7314e50ae4e5b80a5f42ca45d8502": {
          "model_module": "@jupyter-widgets/base",
          "model_name": "LayoutModel",
          "model_module_version": "1.2.0",
          "state": {
            "_model_module": "@jupyter-widgets/base",
            "_model_module_version": "1.2.0",
            "_model_name": "LayoutModel",
            "_view_count": null,
            "_view_module": "@jupyter-widgets/base",
            "_view_module_version": "1.2.0",
            "_view_name": "LayoutView",
            "align_content": null,
            "align_items": null,
            "align_self": null,
            "border": null,
            "bottom": null,
            "display": null,
            "flex": null,
            "flex_flow": null,
            "grid_area": null,
            "grid_auto_columns": null,
            "grid_auto_flow": null,
            "grid_auto_rows": null,
            "grid_column": null,
            "grid_gap": null,
            "grid_row": null,
            "grid_template_areas": null,
            "grid_template_columns": null,
            "grid_template_rows": null,
            "height": null,
            "justify_content": null,
            "justify_items": null,
            "left": null,
            "margin": null,
            "max_height": null,
            "max_width": null,
            "min_height": null,
            "min_width": null,
            "object_fit": null,
            "object_position": null,
            "order": null,
            "overflow": null,
            "overflow_x": null,
            "overflow_y": null,
            "padding": null,
            "right": null,
            "top": null,
            "visibility": null,
            "width": null
          }
        },
        "c815f8429edb4a94b648a68e094ca09c": {
          "model_module": "@jupyter-widgets/controls",
          "model_name": "ProgressStyleModel",
          "model_module_version": "1.5.0",
          "state": {
            "_model_module": "@jupyter-widgets/controls",
            "_model_module_version": "1.5.0",
            "_model_name": "ProgressStyleModel",
            "_view_count": null,
            "_view_module": "@jupyter-widgets/base",
            "_view_module_version": "1.2.0",
            "_view_name": "StyleView",
            "bar_color": null,
            "description_width": ""
          }
        },
        "2932fcda1efb4fedb8f9de5759ea05d8": {
          "model_module": "@jupyter-widgets/base",
          "model_name": "LayoutModel",
          "model_module_version": "1.2.0",
          "state": {
            "_model_module": "@jupyter-widgets/base",
            "_model_module_version": "1.2.0",
            "_model_name": "LayoutModel",
            "_view_count": null,
            "_view_module": "@jupyter-widgets/base",
            "_view_module_version": "1.2.0",
            "_view_name": "LayoutView",
            "align_content": null,
            "align_items": null,
            "align_self": null,
            "border": null,
            "bottom": null,
            "display": null,
            "flex": null,
            "flex_flow": null,
            "grid_area": null,
            "grid_auto_columns": null,
            "grid_auto_flow": null,
            "grid_auto_rows": null,
            "grid_column": null,
            "grid_gap": null,
            "grid_row": null,
            "grid_template_areas": null,
            "grid_template_columns": null,
            "grid_template_rows": null,
            "height": null,
            "justify_content": null,
            "justify_items": null,
            "left": null,
            "margin": null,
            "max_height": null,
            "max_width": null,
            "min_height": null,
            "min_width": null,
            "object_fit": null,
            "object_position": null,
            "order": null,
            "overflow": null,
            "overflow_x": null,
            "overflow_y": null,
            "padding": null,
            "right": null,
            "top": null,
            "visibility": null,
            "width": null
          }
        },
        "0a366d4c844945b89a04a34eeae479b9": {
          "model_module": "@jupyter-widgets/controls",
          "model_name": "DescriptionStyleModel",
          "model_module_version": "1.5.0",
          "state": {
            "_model_module": "@jupyter-widgets/controls",
            "_model_module_version": "1.5.0",
            "_model_name": "DescriptionStyleModel",
            "_view_count": null,
            "_view_module": "@jupyter-widgets/base",
            "_view_module_version": "1.2.0",
            "_view_name": "StyleView",
            "description_width": ""
          }
        }
      }
    }
  },
  "cells": [
    {
      "cell_type": "markdown",
      "metadata": {
        "id": "view-in-github",
        "colab_type": "text"
      },
      "source": [
        "<a href=\"https://colab.research.google.com/github/ColinCMach/LearningPytorch/blob/main/Copy_of_04_pytorch_custom_datasets_exercises.ipynb\" target=\"_parent\"><img src=\"https://colab.research.google.com/assets/colab-badge.svg\" alt=\"Open In Colab\"/></a>"
      ]
    },
    {
      "cell_type": "markdown",
      "source": [
        "# 04. PyTorch Custom Datasets Exercises Template\n",
        "\n",
        "Welcome to the 04. PyTorch Custom Datasets exercise template.\n",
        "\n",
        "The best way to practice PyTorch code is to write more PyTorch code.\n",
        "\n",
        "So read the original notebook and try to complete the exercises by writing code where it's required.\n",
        "\n",
        "Feel free to reference the original resources whenever you need but should practice writing all of the code yourself.\n",
        "\n",
        "## Resources\n",
        "\n",
        "1. These exercises/solutions are based on [notebook 04 of the Learn PyTorch for Deep Learning course](https://www.learnpytorch.io/04_pytorch_custom_datasets/).\n",
        "2. See a live [walkthrough of the solutions (errors and all) on YouTube](https://youtu.be/vsFMF9wqWx0).\n",
        "3. See [other solutions on the course GitHub](https://github.com/mrdbourke/pytorch-deep-learning/tree/main/extras/solutions)."
      ],
      "metadata": {
        "id": "Vex99np2wFVt"
      }
    },
    {
      "cell_type": "code",
      "source": [
        "# Check for GPU\n",
        "!nvidia-smi"
      ],
      "metadata": {
        "id": "GaeYzOTLwWh2",
        "collapsed": true
      },
      "execution_count": null,
      "outputs": []
    },
    {
      "cell_type": "code",
      "source": [
        "# Import torch\n",
        "import torch\n",
        "from torch import nn\n",
        "\n",
        "# Exercises require PyTorch > 1.10.0\n",
        "print(torch.__version__)\n",
        "\n",
        "# Setup device agnostic code\n",
        "device = \"cuda\" if torch.cuda.is_available() else \"cpu\"\n",
        "device"
      ],
      "metadata": {
        "id": "DNwZLMbCzJLk"
      },
      "execution_count": null,
      "outputs": []
    },
    {
      "cell_type": "markdown",
      "source": [
        "## 1. Our models are underperforming (not fitting the data well). What are 3 methods for preventing underfitting? Write them down and explain each with a sentence."
      ],
      "metadata": {
        "id": "FSFX7tc1w-en"
      }
    },
    {
      "cell_type": "markdown",
      "source": [
        "### Things we can \n",
        "- Add more epochs\n",
        "- add more hidden units\n",
        "- Changing the different activation layers in a model"
      ],
      "metadata": {
        "id": "-90Qvx9gtrLj"
      }
    },
    {
      "cell_type": "markdown",
      "source": [
        "## 2. Recreate the data loading functions we built in [sections 1, 2, 3 and 4 of notebook 04](https://www.learnpytorch.io/04_pytorch_custom_datasets/). You should have train and test `DataLoader`'s ready to use."
      ],
      "metadata": {
        "id": "oBK-WI6YxDYa"
      }
    },
    {
      "cell_type": "code",
      "source": [
        "# 1. Get data\n",
        "from torch.utils.data import DataLoader\n",
        "import requests\n",
        "import zipfile\n",
        "from pathlib import Path\n",
        "\n",
        "# set up path to  data folder\n",
        "data_path = Path(\"data/\")\n",
        "image_path = data_path / \"pizza_steak_sushi\"\n",
        "print(image_path)\n",
        "\n",
        "# if the image does not exidst , download and prepare it\n",
        "if image_path.is_dir():\n",
        "  print(f\"{image_path} directory already exists\")\n",
        "else:\n",
        "  print(f\"{image_path} directory does not exist\")\n",
        "  image_path.mkdir(parents = True, exist_ok = True)\n",
        "# download \n",
        "with open(data_path/ \"pizza_steak_sushi.zip\", \"wb\") as f:\n",
        "  request = requests.get(\"https://github.com/mrdbourke/pytorch-deep-learning/blob/main/data/pizza_steak_sushi.zip?raw=true\") \n",
        "  print(f\" downloading pizza steak and sushi data....\")\n",
        "  f.write(request.content)\n",
        "\n",
        "# unzip the pizza s, steak and sushi \n",
        "with zipfile.ZipFile(data_path/ \"pizza_steak_sushi.zip\", \"r\") as zip_ref:\n",
        "  print(f\" unizipping pizza, steak and sushi data\")\n",
        "  zip_ref.extractall(image_path)"
      ],
      "metadata": {
        "id": "MZkCPJBR3lw4"
      },
      "execution_count": null,
      "outputs": []
    },
    {
      "cell_type": "code",
      "source": [],
      "metadata": {
        "id": "4HMul2i5o2SN"
      },
      "execution_count": null,
      "outputs": []
    },
    {
      "cell_type": "code",
      "source": [
        "# 2. Become one with the data\n",
        "import os\n",
        "def walk_through_dir(dir_path):\n",
        "  \"\"\"Walks through dir_path returning file counts of its contents.\"\"\"\n",
        "  for dirpath, dirnames, filenames in os.walk(dir_path):\n",
        "    print(f\"There are {len(dirnames)} directories and {len(filenames)} images in '{dirpath}'.\")\n",
        "walk_through_dir(image_path)"
      ],
      "metadata": {
        "id": "TYmhAX7J52VX"
      },
      "execution_count": null,
      "outputs": []
    },
    {
      "cell_type": "code",
      "source": [
        "# Setup train and testing paths\n",
        "train_dir = image_path / \"train\"\n",
        "test_dir = image_path / \"test\"\n",
        "train_dir, test_dir"
      ],
      "metadata": {
        "id": "3A9ZmOn-7Jhh"
      },
      "execution_count": null,
      "outputs": []
    },
    {
      "cell_type": "code",
      "source": [
        "# Visualize an image\n",
        "import random\n",
        "from PIL import Image\n",
        "\n",
        "image_path_list = list(image_path.glob(\"*/*/*.jpg\"))\n",
        "# 2. pich a random image\n",
        "random_image_path = random.choice(image_path_list)\n",
        "print(random_image_path)\n",
        "#3. get the image class from the path name(the image class is trhe same name as the directory where the image is stored)\n",
        "image_class = random_image_path.parent.stem\n",
        "print(image_class)\n",
        "#4. Open up the image\n",
        "img = Image.open(random_image_path)\n",
        "# print the meta data\n",
        "print(f\"Random image path:{random_image_path}\")\n",
        "print(f\" image width {img.width}\")\n",
        "print(f\"image height: {img.height}\")\n",
        "img"
      ],
      "metadata": {
        "id": "51ywNKkN7WOl"
      },
      "execution_count": null,
      "outputs": []
    },
    {
      "cell_type": "code",
      "source": [
        "# Do the image visualization with matplotlib\n",
        "import matplotlib.pyplot as plt\n",
        "import numpy as np\n",
        "\n",
        "image_as_array= np.asarray(img)\n",
        "plt.figure(figsize = (10,10))\n",
        "plt.imshow(image_as_array)\n",
        "plt.title(f\" This image is of a {image_class} and the shape of it is {image_as_array.shape} the dimessions are -> [height, width, colorchannel]\")\n",
        "plt.axis(False);"
      ],
      "metadata": {
        "id": "Qe4LoASC9sQ-"
      },
      "execution_count": null,
      "outputs": []
    },
    {
      "cell_type": "markdown",
      "source": [
        "We've got some images in our folders.\n",
        "\n",
        "Now we need to make them compatible with PyTorch by:\n",
        "1. Transform the data into tensors.\n",
        "2. Turn the tensor data into a `torch.utils.data.Dataset` and later a `torch.utils.data.DataLoader`."
      ],
      "metadata": {
        "id": "2AU4FGYC_KBz"
      }
    },
    {
      "cell_type": "code",
      "source": [
        "# 3.1 Transforming data with torchvision.transforms\n",
        "import torch\n",
        "from torch.utils.data import DataLoader\n",
        "from torchvision import transforms\n",
        "\n",
        "train_transforms = transforms.Compose([ transforms.Resize(size = ( 64,64)), transforms.ToTensor()])\n",
        "\n",
        "test_transforms = transforms.Compose([transforms.Resize(size = (64, 64)), transforms.ToTensor()])\n",
        "\n",
        "# load the data by using Image Folder"
      ],
      "metadata": {
        "id": "KbGMaYGT-vwq"
      },
      "execution_count": null,
      "outputs": []
    },
    {
      "cell_type": "markdown",
      "source": [
        "### Load the data by using Image Folder from torch vision"
      ],
      "metadata": {
        "id": "IC6NUwQccsIp"
      }
    },
    {
      "cell_type": "code",
      "source": [
        "from torchvision import datasets\n",
        "\n",
        "train_data = datasets.ImageFolder(root = train_dir, transform = train_transforms, target_transform = None)\n",
        "\n",
        "test_data = datasets.ImageFolder(root = test_dir , transform = test_transforms)\n",
        "\n",
        "train_data, test_data"
      ],
      "metadata": {
        "id": "w6Nx3Bfhc4Pr"
      },
      "execution_count": null,
      "outputs": []
    },
    {
      "cell_type": "code",
      "source": [
        "# Write transform for turning images into tensors\n"
      ],
      "metadata": {
        "id": "gnvUSYYW_ohN"
      },
      "execution_count": null,
      "outputs": []
    },
    {
      "cell_type": "code",
      "source": [
        "# Write a function to plot transformed images\n",
        "def plot_transformed_images(image_paths, transform, n = 3):\n",
        "  # This selects random images from a ptha of images and loads/transforms them and plot the original vs the transformed version\n",
        "  random_image_paths= random.sample(image_paths, k = n)\n",
        "  for image_path in random_image_paths :\n",
        "    with Image.open(image_path) as f:\n",
        "      fig, ax = plt.subplots(nrows = 1, ncols = 2)\n",
        "      ax[0].imshow(f)\n",
        "      ax[0].set_title(f\"Original size is {f.size}\")\n",
        "\n",
        "      # transformed and plot target images\n",
        "      transformed_image = transform(f).permute(1,2,0)\n",
        "      ax[1].imshow(transformed_image)\n",
        "      ax[1].set_title(f\"transformed shape is {transformed_image.shape}\")\n",
        "\n",
        "plot_transformed_images(image_paths = image_path_list, transform = train_transforms)"
      ],
      "metadata": {
        "id": "vp8I2cpMAxcT"
      },
      "execution_count": null,
      "outputs": []
    },
    {
      "cell_type": "markdown",
      "source": [
        "### Load image data using `ImageFolder`"
      ],
      "metadata": {
        "id": "FKgfqPArChVR"
      }
    },
    {
      "cell_type": "code",
      "source": [
        "# Use ImageFolder to create dataset(s)\n"
      ],
      "metadata": {
        "id": "8OFgwQF1CkOu"
      },
      "execution_count": null,
      "outputs": []
    },
    {
      "cell_type": "code",
      "source": [
        "# Get class names as a list\n",
        "class_names = train_data.classes\n",
        "class_names"
      ],
      "metadata": {
        "id": "MbT0fhXHEQyJ"
      },
      "execution_count": null,
      "outputs": []
    },
    {
      "cell_type": "code",
      "source": [
        "# Can also get class names as a dict\n",
        "class_dict = train_data.class_to_idx\n",
        "class_dict"
      ],
      "metadata": {
        "id": "uCcWk7NDEay1"
      },
      "execution_count": null,
      "outputs": []
    },
    {
      "cell_type": "code",
      "source": [
        "# Check the lengths of each dataset\n",
        "len(train_data), len(test_data)"
      ],
      "metadata": {
        "id": "W7H7bX4HEgie"
      },
      "execution_count": null,
      "outputs": []
    },
    {
      "cell_type": "code",
      "source": [
        "# Turn train and test Datasets into DataLoaders\n",
        "from torch.utils.data import DataLoader\n",
        "import osgeo\n",
        "BATCH_SIZE = 32 \n",
        "NUM_WORKERS = os.cpu_count()\n",
        "\n",
        "train_dataloader = DataLoader(dataset = train_data, batch_size = BATCH_SIZE, num_workers = NUM_WORKERS, shuffle = True)\n",
        "\n",
        "test_dataloader = DataLoader(dataset = test_data, batch_size = BATCH_SIZE, num_workers = NUM_WORKERS, shuffle = False)\n",
        "train_dataloader, test_dataloader"
      ],
      "metadata": {
        "id": "nskNr5YCEoRl"
      },
      "execution_count": null,
      "outputs": []
    },
    {
      "cell_type": "code",
      "source": [
        "# How many batches of images are in our data loaders?\n"
      ],
      "metadata": {
        "id": "z8vJxmxAFqw6"
      },
      "execution_count": null,
      "outputs": []
    },
    {
      "cell_type": "markdown",
      "source": [
        "## 3. Recreate `model_0` we built in section 7 of notebook 04."
      ],
      "metadata": {
        "id": "XeYFEqw8xK26"
      }
    },
    {
      "cell_type": "code",
      "source": [
        "len(class_names)"
      ],
      "metadata": {
        "id": "eS912rq278JR"
      },
      "execution_count": null,
      "outputs": []
    },
    {
      "cell_type": "code",
      "source": [
        "from torch import nn\n",
        "class TinyVGG(nn.Module):\n",
        "  def __init__(self, in_shape, hidden_units, out_shape):\n",
        "    super().__init__()\n",
        "\n",
        "    self.conv_layer_1 = nn.Sequential(nn.Conv2d(in_channels = in_shape, out_channels = hidden_units, kernel_size = 3, stride = 1, padding = 0),\n",
        "                                      nn.ReLU(),\n",
        "                                      nn.Conv2d(in_channels = hidden_units, out_channels = hidden_units, kernel_size = 3, stride = 1, padding =0),\n",
        "                                      nn.ReLU(),\n",
        "                                      nn.MaxPool2d(kernel_size = 2))\n",
        "    self.conv_layer_2 =nn.Sequential(nn.Conv2d(in_channels = hidden_units, out_channels = hidden_units, kernel_size = 3, stride = 1, padding = 0),\n",
        "                                      nn.ReLU(),\n",
        "                                      nn.Conv2d(in_channels = hidden_units, out_channels = hidden_units, kernel_size = 3, stride = 1, padding =0),\n",
        "                                      nn.ReLU(),\n",
        "                                      nn.MaxPool2d(kernel_size = 2))\n",
        "    self.classifier = nn.Sequential(nn.Flatten(),\n",
        "                                    nn.Linear(in_features = hidden_units *13 *13, out_features = out_shape))\n",
        "    \n",
        "  def forward(self,x):\n",
        "      x = self.conv_layer_1(x)\n",
        "      # print(x.shape)\n",
        "      x= self.conv_layer_2(x)\n",
        "      # print(x.shape)\n",
        "      x = self.classifier(x)\n",
        "      # print(x.shape)\n",
        "      return x\n",
        "\n",
        "model_0 = TinyVGG(in_shape = 3, hidden_units = 10, out_shape = len(class_names)).to(device)"
      ],
      "metadata": {
        "id": "MBErjcUCyDzE"
      },
      "execution_count": null,
      "outputs": []
    },
    {
      "cell_type": "markdown",
      "source": [
        "## 4. Create training and testing functions for `model_0`."
      ],
      "metadata": {
        "id": "DKdEEFEqxM-8"
      }
    },
    {
      "cell_type": "code",
      "source": [
        "def train_step(model: torch.nn.Module,\n",
        "               dataloader: torch.utils.data.DataLoader,\n",
        "               loss_fn: torch.nn.Module,\n",
        "               optimizer: torch.optim.Optimizer):\n",
        "  \n",
        "  # Put the model in train mode\n",
        "  model.train()\n",
        "\n",
        "  # Setup train loss and train accuracy values\n",
        "  train_loss, train_acc = 0, 0\n",
        "\n",
        "  # Loop through data loader and data batches\n",
        "  for batch,(X,y) in enumerate(dataloader):\n",
        "    # Send data to target device\n",
        "    X, y = X.to(device), y.to(device)\n",
        "    # 1. Forward pass\n",
        "    y_pred = model(X)\n",
        "    \n",
        "    # 2. Calculate and accumulate loss\n",
        "    loss = loss_fn(y_pred, y)\n",
        "    train_loss += loss.item()\n",
        "\n",
        "    # 3. Optimizer zero grad \n",
        "    optimizer.zero_grad()\n",
        "\n",
        "    # 4. Loss backward \n",
        "    loss.backward()\n",
        "\n",
        "    # 5. Optimizer step\n",
        "    optimizer.step()\n",
        "\n",
        "    # Calculate and accumualte accuracy metric across all batches\n",
        "    y_pred_class = torch.argmax(torch.softmax(y_pred, dim = 1), dim = 1)\n",
        "    train_acc += (y_pred_class == y).sum().item()/ len(y_pred)\n",
        "  \n",
        "  # Adjust metrics to get average loss and average accuracy per batch\n",
        "  train_loss = train_loss/len(dataloader)\n",
        "  train_acc = train_acc/len(dataloader)\n",
        "  return train_loss, train_acc"
      ],
      "metadata": {
        "id": "rnUox1qayDes"
      },
      "execution_count": null,
      "outputs": []
    },
    {
      "cell_type": "code",
      "source": [
        "def test_step(model: torch.nn.Module,\n",
        "              dataloader: torch.utils.data.DataLoader,\n",
        "              loss_fn: torch.nn.Module):\n",
        "  \n",
        "  # Put model in eval mode\n",
        "  model.eval()\n",
        "\n",
        "  # Setup the test loss and test accuracy values\n",
        "  test_loss, test_acc = 0, 0\n",
        "\n",
        "  # Turn on inference context manager\n",
        "  with torch.inference_mode():\n",
        "\n",
        "\n",
        "    # Loop through DataLoader batches\n",
        "    for bacth , (X,y) in enumerate(dataloader):\n",
        "      # Send data to  target device\n",
        "      X, y = X.to(device), y.to(device)\n",
        "\n",
        "      # 1. Forward pass\n",
        "      test_pred = model(X)\n",
        "\n",
        "      # 2. Calculuate and accumulate loss\n",
        "      loss = loss_fn(test_pred, y)\n",
        "      test_loss +=loss.item()\n",
        "\n",
        "      # Calculate and accumulate accuracy\n",
        "      test_pred_class = torch.argmax(torch.softmax(test_pred, dim =1), dim = 1)\n",
        "      test_acc += (test_pred_class == y).sum().item()/len(test_pred)\n",
        "    \n",
        "  # Adjust metrics to get average loss and accuracy per batch\n",
        "  test_loss = test_loss / len(dataloader)\n",
        "  test_acc = test_acc / len(dataloader)\n",
        "  return test_loss, test_acc"
      ],
      "metadata": {
        "id": "O7_EVPpHNKUP"
      },
      "execution_count": null,
      "outputs": []
    },
    {
      "cell_type": "code",
      "source": [
        "from tqdm.auto import tqdm\n",
        "\n",
        "def train(model: torch.nn.Module,\n",
        "          train_dataloader: torch.utils.data.DataLoader,\n",
        "          test_dataloader: torch.utils.data.DataLoader,\n",
        "          optimizer: torch.optim.Optimizer,\n",
        "          loss_fn: torch.nn.Module = nn.CrossEntropyLoss(),\n",
        "          epochs: int = 5):\n",
        "  \n",
        "  # Create results dictionary\n",
        "  results = {\"train_loss\": [],\n",
        "             \"train_acc\": [],\n",
        "             \"test_loss\": [],\n",
        "             \"test_acc\": []}\n",
        "\n",
        "  # Loop through the training and testing steps for a number of epochs\n",
        "  for epoch in tqdm(range(epochs)):\n",
        "    # Train step\n",
        "    train_loss, train_acc = train_step(model=model, \n",
        "                                       dataloader=train_dataloader,\n",
        "                                       loss_fn=loss_fn,\n",
        "                                       optimizer=optimizer)\n",
        "    # Test step\n",
        "    test_loss, test_acc = test_step(model=model, \n",
        "                                    dataloader=test_dataloader,\n",
        "                                    loss_fn=loss_fn)\n",
        "    \n",
        "    # Print out what's happening\n",
        "    print(f\"Epoch: {epoch+1} | \"\n",
        "          f\"train_loss: {train_loss:.4f} | \"\n",
        "          f\"train_acc: {train_acc:.4f} | \"\n",
        "          f\"test_loss: {test_loss:.4f} | \"\n",
        "          f\"test_acc: {test_acc:.4f}\"\n",
        "    )\n",
        "\n",
        "    # Update the results dictionary\n",
        "    results[\"train_loss\"].append(train_loss)\n",
        "    results[\"train_acc\"].append(train_acc)\n",
        "    results[\"test_loss\"].append(test_loss)\n",
        "    results[\"test_acc\"].append(test_acc)\n",
        "\n",
        "  # Return the results dictionary\n",
        "  return results"
      ],
      "metadata": {
        "id": "zXxTIh9tOh68"
      },
      "execution_count": null,
      "outputs": []
    },
    {
      "cell_type": "markdown",
      "source": [
        "## 5. Try training the model you made in exercise 3 for 5, 20 and 50 epochs, what happens to the results?\n",
        "* Use `torch.optim.Adam()` with a learning rate of 0.001 as the optimizer. "
      ],
      "metadata": {
        "id": "lvf-3pODxXYI"
      }
    },
    {
      "cell_type": "code",
      "source": [
        "# Train for 5 epochs\n",
        "torch.manual_seed(42)\n",
        "torch.cuda.manual_seed(42)\n",
        "EPOCHS = 5\n",
        "\n",
        "loss_fn = nn.CrossEntropyLoss()\n",
        "optimizer = torch.optim.Adam(params = model_0.parameters(), \n",
        "                             lr=0.001)\n",
        "train(model = model_0, train_dataloader = train_dataloader, test_dataloader = test_dataloader, optimizer = optimizer, loss_fn = loss_fn, epochs = EPOCHS)"
      ],
      "metadata": {
        "id": "rV7s2qtIyDIZ"
      },
      "execution_count": null,
      "outputs": []
    },
    {
      "cell_type": "code",
      "source": [
        "# Train for 20 epochs\n",
        "torch.manual_seed(42)\n",
        "torch.cuda.manual_seed(42)\n",
        "\n",
        "loss_fn = nn.CrossEntropyLoss()\n",
        "optimizer = torch.optim.Adam(model_0.parameters(), \n",
        "                             lr=0.001)\n",
        "train(model = model_0, train_dataloader = train_dataloader, test_dataloader = test_dataloader, optimizer = optimizer, loss_fn = loss_fn, epochs = 20)"
      ],
      "metadata": {
        "id": "UEtZzyF1QGTq"
      },
      "execution_count": null,
      "outputs": []
    },
    {
      "cell_type": "code",
      "source": [
        "# Train for 50 epochs\n",
        "torch.manual_seed(42)\n",
        "torch.cuda.manual_seed(42)\n",
        "\n",
        "loss_fn = nn.CrossEntropyLoss()\n",
        "optimizer = torch.optim.Adam(model_0.parameters(), \n",
        "                             lr=0.001)\n",
        "train(model = model_0, train_dataloader = train_dataloader, test_dataloader = test_dataloader, optimizer = optimizer, loss_fn = loss_fn, epochs = 50)"
      ],
      "metadata": {
        "id": "Dwvg40qAQGP9"
      },
      "execution_count": null,
      "outputs": []
    },
    {
      "cell_type": "markdown",
      "source": [
        "It looks like our model is starting to overfit towards the end (performing far better on the training data than on the testing data).\n",
        "\n",
        "In order to fix this, we'd have to introduce ways of preventing overfitting."
      ],
      "metadata": {
        "id": "fn8_fDGzQGMn"
      }
    },
    {
      "cell_type": "markdown",
      "source": [
        "## 6. Double the number of hidden units in your model and train it for 20 epochs, what happens to the results?"
      ],
      "metadata": {
        "id": "qxZW-uAbxe_F"
      }
    },
    {
      "cell_type": "code",
      "source": [
        "# Double the number of hidden units and train for 20 epochs\n",
        "torch.manual_seed(42)\n",
        "torch.cuda.manual_seed(42)\n",
        "model_0 = TinyVGG(in_shape = 3, hidden_units = 20, out_shape = len(class_names)).to(device)\n",
        "train(model = model_0, train_dataloader = train_dataloader, test_dataloader = test_dataloader, optimizer = optimizer, loss_fn = loss_fn, epochs = 20)"
      ],
      "metadata": {
        "id": "HdRM86voyC0x"
      },
      "execution_count": null,
      "outputs": []
    },
    {
      "cell_type": "markdown",
      "source": [
        "It looks like the model is still overfitting, even when changing the number of hidden units.\n",
        "\n",
        "To fix this, we'd have to look at ways to prevent overfitting with our model."
      ],
      "metadata": {
        "id": "THYGHbxyTfzM"
      }
    },
    {
      "cell_type": "markdown",
      "source": [
        "## 7. Double the data you're using with your model from step 6 and train it for 20 epochs, what happens to the results?\n",
        "* **Note:** You can use the [custom data creation notebook](https://github.com/mrdbourke/pytorch-deep-learning/blob/main/extras/04_custom_data_creation.ipynb) to scale up your Food101 dataset.\n",
        "* You can also find the [already formatted double data (20% instead of 10% subset) dataset on GitHub](https://github.com/mrdbourke/pytorch-deep-learning/blob/main/data/pizza_steak_sushi_20_percent.zip), you will need to write download code like in exercise 2 to get it into this notebook."
      ],
      "metadata": {
        "id": "JAPDzW0wxhi3"
      }
    },
    {
      "cell_type": "code",
      "source": [
        "# Download 20% data for Pizza/Steak/Sushi from GitHub\n",
        "import requests\n",
        "import zipfile\n",
        "from pathlib import Path\n",
        "\n",
        "# Setup path to data folder\n",
        "data_path = Path(\"data/\")\n",
        "image_path = data_path / \"pizza_steak_sushi_20_percent\"\n",
        "\n",
        "# If the image folder doesn't exist, download it and prepare it... \n",
        "if image_path.is_dir():\n",
        "    print(f\"{image_path} directory exists.\")\n",
        "else:\n",
        "    print(f\"Did not find {image_path} directory, creating one...\")\n",
        "    image_path.mkdir(parents=True, exist_ok=True)\n",
        "    \n",
        "# Download pizza, steak, sushi data\n",
        "with open(data_path / \"pizza_steak_sushi_20_percent.zip\", \"wb\") as f:\n",
        "    request = requests.get(\"https://github.com/mrdbourke/pytorch-deep-learning/raw/main/data/pizza_steak_sushi_20_percent.zip\")\n",
        "    print(\"Downloading pizza, steak, sushi 20% data...\")\n",
        "    f.write(request.content)\n",
        "\n",
        "# Unzip pizza, steak, sushi data\n",
        "with zipfile.ZipFile(data_path / \"pizza_steak_sushi_20_percent.zip\", \"r\") as zip_ref:\n",
        "    print(\"Unzipping pizza, steak, sushi 20% data...\") \n",
        "    zip_ref.extractall(image_path)"
      ],
      "metadata": {
        "id": "8tWfa7Y0yCkX"
      },
      "execution_count": null,
      "outputs": []
    },
    {
      "cell_type": "code",
      "source": [
        "# See how many images we have\n",
        "walk_through_dir(image_path)"
      ],
      "metadata": {
        "id": "DrFK2ScnVg4q"
      },
      "execution_count": null,
      "outputs": []
    },
    {
      "cell_type": "markdown",
      "source": [
        "Excellent, we now have double the training and testing images... "
      ],
      "metadata": {
        "id": "WhlWd-z-Vk22"
      }
    },
    {
      "cell_type": "code",
      "source": [
        "# Create the train and test paths\n",
        "train_data_20_percent_path = image_path / \"train\"\n",
        "test_data_20_percent_path = image_path / \"test\"\n",
        "\n",
        "train_data_20_percent_path, test_data_20_percent_path"
      ],
      "metadata": {
        "id": "hNzXRfO1Tt1Q"
      },
      "execution_count": null,
      "outputs": []
    },
    {
      "cell_type": "code",
      "source": [
        "# Turn the 20 percent datapaths into Datasets and DataLoaders\n",
        "from torchvision.datasets import ImageFolder\n",
        "from torchvision import transforms\n",
        "from torch.utils.data import DataLoader\n",
        "import osqp\n",
        "BATCH_SIZE = 32\n",
        "NUM_WORKERS = os.cpu_count()\n",
        "simple_transform = transforms.Compose([\n",
        "  transforms.Resize((64, 64)),                                     \n",
        "  transforms.ToTensor()\n",
        "])\n",
        "\n",
        "# Create datasets\n",
        "train_dataset_20 = datasets.ImageFolder(root = train_data_20_percent_path, target_transform = None, transform = simple_transform)\n",
        "test_dataset_20 = datasets.ImageFolder(root = test_data_20_percent_path, target_transform = None, transform = simple_transform)\n",
        "\n",
        "# Create dataloaders\n",
        "train_dataloder_20 = DataLoader(dataset = train_dataset_20, batch_size = BATCH_SIZE, shuffle = True, num_workers = NUM_WORKERS)\n",
        "test_dataloader_20 = DataLoader(dataset = test_dataset_20, shuffle = False, batch_size = BATCH_SIZE, num_workers = NUM_WORKERS)"
      ],
      "metadata": {
        "id": "R1_xU3FQUPkN"
      },
      "execution_count": null,
      "outputs": []
    },
    {
      "cell_type": "code",
      "source": [
        "model_0 = TinyVGG(in_shape = 3, hidden_units = 100, out_shape = len(class_names)).to(device)"
      ],
      "metadata": {
        "id": "YyeI9B4kRxXg"
      },
      "execution_count": null,
      "outputs": []
    },
    {
      "cell_type": "code",
      "source": [
        "# Train a model with increased amount of data\n",
        "torch.manual_seed(42)\n",
        "torch.cuda.manual_seed(42)\n",
        "loss_fn = nn.CrossEntropyLoss()\n",
        "optimizer = torch.optim.Adam(params = model_0.parameters(), \n",
        "                             lr=0.001)\n",
        "\n",
        "train(model = model_0, train_dataloader = train_dataloader, test_dataloader = test_dataloader, optimizer = optimizer, loss_fn = loss_fn, epochs = 20)"
      ],
      "metadata": {
        "id": "BuJ9YpRCVXRm",
        "colab": {
          "base_uri": "https://localhost:8080/",
          "height": 1000,
          "referenced_widgets": [
            "bcf81281026047e097decc5a712a06e1",
            "395d3167e14747bc8e19162d84d23f89",
            "4d615b17849d4ce885d340cef3d8940b",
            "2324b6c9f87e4594b4bc654314e3f776",
            "00f2b66e482749829b3b35d74b4c1067",
            "00a199a4e8234896b6bd9f72afb90b41",
            "0da4e22015b440b9a92d0e925206513a",
            "d0c7314e50ae4e5b80a5f42ca45d8502",
            "c815f8429edb4a94b648a68e094ca09c",
            "2932fcda1efb4fedb8f9de5759ea05d8",
            "0a366d4c844945b89a04a34eeae479b9"
          ]
        },
        "outputId": "f72cd482-0546-446d-ba59-c72cae131474"
      },
      "execution_count": null,
      "outputs": [
        {
          "output_type": "display_data",
          "data": {
            "text/plain": [
              "  0%|          | 0/20 [00:00<?, ?it/s]"
            ],
            "application/vnd.jupyter.widget-view+json": {
              "version_major": 2,
              "version_minor": 0,
              "model_id": "bcf81281026047e097decc5a712a06e1"
            }
          },
          "metadata": {}
        },
        {
          "output_type": "stream",
          "name": "stdout",
          "text": [
            "Epoch: 1 | train_loss: 1.1190 | train_acc: 0.3594 | test_loss: 1.1037 | test_acc: 0.2604\n",
            "Epoch: 2 | train_loss: 1.0865 | train_acc: 0.4570 | test_loss: 1.1236 | test_acc: 0.2708\n",
            "Epoch: 3 | train_loss: 1.0861 | train_acc: 0.4375 | test_loss: 1.0856 | test_acc: 0.2604\n",
            "Epoch: 4 | train_loss: 1.0432 | train_acc: 0.4961 | test_loss: 1.0107 | test_acc: 0.3920\n",
            "Epoch: 5 | train_loss: 0.8058 | train_acc: 0.6641 | test_loss: 1.3131 | test_acc: 0.3939\n",
            "Epoch: 6 | train_loss: 0.9628 | train_acc: 0.5078 | test_loss: 1.0716 | test_acc: 0.4441\n",
            "Epoch: 7 | train_loss: 0.8280 | train_acc: 0.6797 | test_loss: 1.0694 | test_acc: 0.3523\n",
            "Epoch: 8 | train_loss: 0.8337 | train_acc: 0.6992 | test_loss: 1.1232 | test_acc: 0.4233\n",
            "Epoch: 9 | train_loss: 0.8569 | train_acc: 0.5742 | test_loss: 1.1203 | test_acc: 0.4943\n",
            "Epoch: 10 | train_loss: 0.8539 | train_acc: 0.6055 | test_loss: 1.0296 | test_acc: 0.3722\n",
            "Epoch: 11 | train_loss: 0.7683 | train_acc: 0.7070 | test_loss: 1.0063 | test_acc: 0.4441\n",
            "Epoch: 12 | train_loss: 0.6459 | train_acc: 0.6992 | test_loss: 1.1948 | test_acc: 0.4848\n",
            "Epoch: 13 | train_loss: 0.6401 | train_acc: 0.7344 | test_loss: 1.2621 | test_acc: 0.4034\n",
            "Epoch: 14 | train_loss: 0.6804 | train_acc: 0.7500 | test_loss: 1.2005 | test_acc: 0.5350\n",
            "Epoch: 15 | train_loss: 0.7986 | train_acc: 0.6328 | test_loss: 1.3078 | test_acc: 0.3949\n",
            "Epoch: 16 | train_loss: 0.7311 | train_acc: 0.6953 | test_loss: 1.0995 | test_acc: 0.5237\n",
            "Epoch: 17 | train_loss: 0.7146 | train_acc: 0.6406 | test_loss: 1.2229 | test_acc: 0.3835\n",
            "Epoch: 18 | train_loss: 0.7692 | train_acc: 0.6641 | test_loss: 1.3025 | test_acc: 0.4545\n",
            "Epoch: 19 | train_loss: 0.6202 | train_acc: 0.7773 | test_loss: 1.3776 | test_acc: 0.4451\n",
            "Epoch: 20 | train_loss: 0.7603 | train_acc: 0.6836 | test_loss: 1.1797 | test_acc: 0.4754\n"
          ]
        },
        {
          "output_type": "execute_result",
          "data": {
            "text/plain": [
              "{'train_loss': [1.118972972035408,\n",
              "  1.0864879339933395,\n",
              "  1.0861097648739815,\n",
              "  1.0431738048791885,\n",
              "  0.805839367210865,\n",
              "  0.9628144577145576,\n",
              "  0.8279923312366009,\n",
              "  0.8336919248104095,\n",
              "  0.856928139925003,\n",
              "  0.8538653701543808,\n",
              "  0.7683015018701553,\n",
              "  0.6459338795393705,\n",
              "  0.6401373632252216,\n",
              "  0.6803779900074005,\n",
              "  0.7986073344945908,\n",
              "  0.7310886159539223,\n",
              "  0.714559443295002,\n",
              "  0.7691673412919044,\n",
              "  0.6201911121606827,\n",
              "  0.7602812983095646],\n",
              " 'train_acc': [0.359375,\n",
              "  0.45703125,\n",
              "  0.4375,\n",
              "  0.49609375,\n",
              "  0.6640625,\n",
              "  0.5078125,\n",
              "  0.6796875,\n",
              "  0.69921875,\n",
              "  0.57421875,\n",
              "  0.60546875,\n",
              "  0.70703125,\n",
              "  0.69921875,\n",
              "  0.734375,\n",
              "  0.75,\n",
              "  0.6328125,\n",
              "  0.6953125,\n",
              "  0.640625,\n",
              "  0.6640625,\n",
              "  0.77734375,\n",
              "  0.68359375],\n",
              " 'test_loss': [1.1037131547927856,\n",
              "  1.123619278271993,\n",
              "  1.0855690638224285,\n",
              "  1.0107463598251343,\n",
              "  1.3130754431088765,\n",
              "  1.0716135104497273,\n",
              "  1.0694358746210735,\n",
              "  1.123233159383138,\n",
              "  1.1202528476715088,\n",
              "  1.0295698444048564,\n",
              "  1.0062694350878398,\n",
              "  1.1948372721672058,\n",
              "  1.2620998819669087,\n",
              "  1.200476586818695,\n",
              "  1.3078282475471497,\n",
              "  1.0995208819707234,\n",
              "  1.22290833791097,\n",
              "  1.3025280634562175,\n",
              "  1.3776018222173054,\n",
              "  1.1797247330347698],\n",
              " 'test_acc': [0.2604166666666667,\n",
              "  0.2708333333333333,\n",
              "  0.2604166666666667,\n",
              "  0.3920454545454546,\n",
              "  0.393939393939394,\n",
              "  0.4441287878787879,\n",
              "  0.3522727272727273,\n",
              "  0.4232954545454546,\n",
              "  0.4943181818181818,\n",
              "  0.3721590909090909,\n",
              "  0.4441287878787879,\n",
              "  0.48484848484848486,\n",
              "  0.4034090909090909,\n",
              "  0.5350378787878788,\n",
              "  0.3948863636363636,\n",
              "  0.5236742424242424,\n",
              "  0.3835227272727273,\n",
              "  0.4545454545454546,\n",
              "  0.44507575757575757,\n",
              "  0.4753787878787879]}"
            ]
          },
          "metadata": {},
          "execution_count": 69
        }
      ]
    },
    {
      "cell_type": "markdown",
      "source": [
        "## 8. Make a prediction on your own custom image of pizza/steak/sushi (you could even download one from the internet) with your trained model from exercise 7 and share your prediction. \n",
        "* Does the model you trained in exercise 7 get it right? \n",
        "* If not, what do you think you could do to improve it?"
      ],
      "metadata": {
        "id": "bCCVfXk5xjYS"
      }
    },
    {
      "cell_type": "code",
      "source": [
        "import requests\n",
        "\n",
        "# set up custom image path\n",
        "custom_image_path = data_path / \"sushi\"\n",
        "\n",
        "\n",
        "# download the data\\\n",
        "\n",
        "if not custom_image_path.is_file():\n",
        "  with open(custom_image_path, \"wb\") as f:\n",
        "    request = requests.get(\"https://raw.githubusercontent.com/DaddyColin/FacesImages/main/sushi.jpg\")\n",
        "    print(f\"Downloading {custom_image_path}...\")\n",
        "    f.write(request.content)\n",
        "\n",
        "else:\n",
        "  print(f\"{custom_image_path} already exisits\")"
      ],
      "metadata": {
        "id": "Q1X-33t0vT20",
        "colab": {
          "base_uri": "https://localhost:8080/"
        },
        "outputId": "5ba8e0f6-136d-41f5-de94-22bc417d5a4c"
      },
      "execution_count": null,
      "outputs": [
        {
          "output_type": "stream",
          "name": "stdout",
          "text": [
            "data/sushi already exisits\n"
          ]
        }
      ]
    },
    {
      "cell_type": "code",
      "source": [
        "custom_image_path = data_path / \"sushi1\"\n",
        "if not custom_image_path.is_file():\n",
        "  with open(custom_image_path, \"wb\") as f:\n",
        "    request = requests.get(\"https://raw.githubusercontent.com/DaddyColin/FacesImages/main/sushi.jpg\")\n",
        "    print(f\"Downloading {custom_image_path}...\")\n",
        "    f.write(request.content)\n",
        "\n",
        "else:\n",
        "  print(f\"{custom_image_path} already exisits\")"
      ],
      "metadata": {
        "colab": {
          "base_uri": "https://localhost:8080/"
        },
        "id": "H2AKkRDaaRjy",
        "outputId": "b4c941e8-28be-44d6-d504-cc3f7a6c3a8d"
      },
      "execution_count": null,
      "outputs": [
        {
          "output_type": "stream",
          "name": "stdout",
          "text": [
            "Downloading data/sushi1...\n"
          ]
        }
      ]
    },
    {
      "cell_type": "code",
      "source": [
        "import torchvision\n",
        "custom_image_uint81 = torchvision.io.read_image(str(custom_image_path))\n",
        "# custom_image_uint8 = torchvision.io.read_image(str(custom_image_path))\n",
        "\n",
        "plt.imshow(custom_image_uint81.permute(1,2,0))"
      ],
      "metadata": {
        "colab": {
          "base_uri": "https://localhost:8080/",
          "height": 267
        },
        "id": "SFZSyIZMSDBI",
        "outputId": "25bd1fec-ec78-4c5a-8b9d-e490417f827a"
      },
      "execution_count": null,
      "outputs": [
        {
          "output_type": "execute_result",
          "data": {
            "text/plain": [
              "<matplotlib.image.AxesImage at 0x7fdcea856390>"
            ]
          },
          "metadata": {},
          "execution_count": 41
        },
        {
          "output_type": "display_data",
          "data": {
            "text/plain": [
              "<Figure size 432x288 with 1 Axes>"
            ],
            "image/png": "[encoded data removed]"
          },
          "metadata": {
            "needs_background": "light"
          }
        }
      ]
    },
    {
      "cell_type": "code",
      "source": [
        "custom_image = torchvision.io.read_image(str(custom_image_path)) / 255\n",
        "custom_image_transform = transforms.Compose([transforms.Resize(size = (64,64))])\n",
        "\n",
        "\n",
        "custom_image_transformed = custom_image_transform(custom_image)\n",
        "\n",
        "plt.imshow(custom_image_transformed.permute(1,2,0))\n",
        "custom_image_transformed"
      ],
      "metadata": {
        "colab": {
          "base_uri": "https://localhost:8080/",
          "height": 667
        },
        "id": "ZBp-gIvOa7Cs",
        "outputId": "6c35f53d-8faf-428a-94cd-288e73b8cd5b"
      },
      "execution_count": null,
      "outputs": [
        {
          "output_type": "execute_result",
          "data": {
            "text/plain": [
              "tensor([[[0.9815, 0.9776, 0.9786,  ..., 0.5869, 0.6235, 0.6408],\n",
              "         [0.9785, 0.9765, 0.9784,  ..., 0.5572, 0.6242, 0.6634],\n",
              "         [0.9804, 0.9788, 0.9746,  ..., 0.5948, 0.6226, 0.6281],\n",
              "         ...,\n",
              "         [0.7236, 0.4775, 0.8453,  ..., 0.2569, 0.2572, 0.3090],\n",
              "         [0.5537, 0.7084, 0.6105,  ..., 0.2531, 0.2376, 0.2418],\n",
              "         [0.6200, 0.7918, 0.7336,  ..., 0.2016, 0.2350, 0.2521]],\n",
              "\n",
              "        [[0.9815, 0.9776, 0.9786,  ..., 0.5634, 0.6000, 0.6172],\n",
              "         [0.9785, 0.9765, 0.9784,  ..., 0.5337, 0.6007, 0.6398],\n",
              "         [0.9804, 0.9788, 0.9746,  ..., 0.5713, 0.5991, 0.6046],\n",
              "         ...,\n",
              "         [0.7196, 0.4736, 0.8414,  ..., 0.2412, 0.2415, 0.2933],\n",
              "         [0.5498, 0.7045, 0.6066,  ..., 0.2374, 0.2219, 0.2261],\n",
              "         [0.6161, 0.7879, 0.7297,  ..., 0.1859, 0.2193, 0.2364]],\n",
              "\n",
              "        [[0.9815, 0.9776, 0.9786,  ..., 0.5713, 0.6078, 0.6251],\n",
              "         [0.9785, 0.9765, 0.9784,  ..., 0.5415, 0.6085, 0.6477],\n",
              "         [0.9804, 0.9788, 0.9746,  ..., 0.5791, 0.6070, 0.6125],\n",
              "         ...,\n",
              "         [0.7432, 0.4971, 0.8649,  ..., 0.2451, 0.2454, 0.2972],\n",
              "         [0.5733, 0.7280, 0.6301,  ..., 0.2413, 0.2259, 0.2300],\n",
              "         [0.6396, 0.8115, 0.7532,  ..., 0.1898, 0.2232, 0.2404]]])"
            ]
          },
          "metadata": {},
          "execution_count": 44
        },
        {
          "output_type": "display_data",
          "data": {
            "text/plain": [
              "<Figure size 432x288 with 1 Axes>"
            ],
            "image/png": "[encoded data removed]"
          },
          "metadata": {
            "needs_background": "light"
          }
        }
      ]
    },
    {
      "cell_type": "code",
      "source": [
        "model_0 = model_0.to(device)\n",
        "model_0.eval()\n",
        "with torch.inference_mode():\n",
        "  custom_image_pred = model_0(custom_image_transformed.unsqueeze(dim = 0).to(device))\n",
        "custom_image_pred_probs = torch.softmax(custom_image_pred, dim = 1)\n",
        "print(custom_image_pred_probs)\n",
        "class_names[custom_image_pred_probs.argmax()]"
      ],
      "metadata": {
        "colab": {
          "base_uri": "https://localhost:8080/",
          "height": 53
        },
        "id": "d2a_433yblBV",
        "outputId": "aa6212e6-aaf7-4c4b-fbc8-36a5ab3b06fd"
      },
      "execution_count": null,
      "outputs": [
        {
          "output_type": "stream",
          "name": "stdout",
          "text": [
            "tensor([[0.0115, 0.8934, 0.0951]], device='cuda:0')\n"
          ]
        },
        {
          "output_type": "execute_result",
          "data": {
            "text/plain": [
              "'steak'"
            ],
            "application/vnd.google.colaboratory.intrinsic+json": {
              "type": "string"
            }
          },
          "metadata": {},
          "execution_count": 71
        }
      ]
    }
  ]
}